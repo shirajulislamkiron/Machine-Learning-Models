{
  "nbformat": 4,
  "nbformat_minor": 0,
  "metadata": {
    "colab": {
      "provenance": []
    },
    "kernelspec": {
      "name": "python3",
      "display_name": "Python 3"
    },
    "language_info": {
      "name": "python"
    }
  },
  "cells": [
    {
      "cell_type": "code",
      "execution_count": null,
      "metadata": {
        "id": "a5e7LYHMqe0j"
      },
      "outputs": [],
      "source": [
        "customer_data=read.csv(\"/home/dataflair/Mall_Customers.csv\")\n",
        "str(customer_data)\n",
        "names(customer_data)"
      ]
    },
    {
      "cell_type": "code",
      "source": [
        "head(customer_data)\n",
        "summary(customer_data$Age)"
      ],
      "metadata": {
        "id": "-3q3fNYQrkf3"
      },
      "execution_count": null,
      "outputs": []
    },
    {
      "cell_type": "code",
      "source": [
        "sd(customer_data$Age)\n",
        "summary(customer_data$Annual.Income..k..)\n",
        "sd(customer_data$Annual.Income..k..)\n",
        "summary(customer_data$Age)"
      ],
      "metadata": {
        "id": "6QvWvJjrrnbV"
      },
      "execution_count": null,
      "outputs": []
    },
    {
      "cell_type": "code",
      "source": [
        "sd(customer_data$Spending.Score..1.100.)\n"
      ],
      "metadata": {
        "id": "FWK7UY7ArpXn"
      },
      "execution_count": null,
      "outputs": []
    },
    {
      "cell_type": "code",
      "source": [
        "\n",
        "a=table(customer_data$Gender)\n",
        "barplot(a,main=\"Using BarPlot to display Gender Comparision\",\n",
        "       ylab=\"Count\",\n",
        "       xlab=\"Gender\",\n",
        "       col=rainbow(2),\n",
        "       legend=rownames(a))"
      ],
      "metadata": {
        "id": "XCcYseptrrLN"
      },
      "execution_count": null,
      "outputs": []
    },
    {
      "cell_type": "code",
      "source": [
        "pct=round(a/sum(a)*100)\n",
        "lbs=paste(c(\"Female\",\"Male\"),\" \",pct,\"%\",sep=\" \")\n",
        "library(plotrix)\n",
        "pie3D(a,labels=lbs,\n",
        "   main=\"Pie Chart Depicting Ratio of Female and Male\")"
      ],
      "metadata": {
        "id": "Y77q33xJrtOV"
      },
      "execution_count": null,
      "outputs": []
    },
    {
      "cell_type": "code",
      "source": [
        "summary(customer_data$Age)\n"
      ],
      "metadata": {
        "id": "P_l-0q2vrvy1"
      },
      "execution_count": null,
      "outputs": []
    },
    {
      "cell_type": "code",
      "source": [
        "\n",
        "hist(customer_data$Age,\n",
        "    col=\"blue\",\n",
        "    main=\"Histogram to Show Count of Age Class\",\n",
        "    xlab=\"Age Class\",\n",
        "    ylab=\"Frequency\",\n",
        "    labels=TRUE)"
      ],
      "metadata": {
        "id": "34TZNzZYryRF"
      },
      "execution_count": null,
      "outputs": []
    },
    {
      "cell_type": "code",
      "source": [
        "boxplot(customer_data$Age,\n",
        "       col=\"ff0066\",\n",
        "       main=\"Boxplot for Descriptive Analysis of Age\")"
      ],
      "metadata": {
        "id": "_eAJQbkytGWA"
      },
      "execution_count": null,
      "outputs": []
    },
    {
      "cell_type": "code",
      "source": [
        "summary(customer_data$Annual.Income..k..)\n",
        "hist(customer_data$Annual.Income..k..,\n",
        "  col=\"#660033\",\n",
        "  main=\"Histogram for Annual Income\",\n",
        "  xlab=\"Annual Income Class\",\n",
        "  ylab=\"Frequency\",\n",
        "  labels=TRUE)"
      ],
      "metadata": {
        "id": "8Qd_TA2mtLDu"
      },
      "execution_count": null,
      "outputs": []
    },
    {
      "cell_type": "code",
      "source": [
        "plot(density(customer_data$Annual.Income..k..),\n",
        "    col=\"yellow\",\n",
        "    main=\"Density Plot for Annual Income\",\n",
        "    xlab=\"Annual Income Class\",\n",
        "    ylab=\"Density\")\n",
        "polygon(density(customer_data$Annual.Income..k..),\n",
        "        col=\"#ccff66\")"
      ],
      "metadata": {
        "id": "Y3AAGZ6ztOQP"
      },
      "execution_count": null,
      "outputs": []
    },
    {
      "cell_type": "code",
      "source": [
        "summary(customer_data$Spending.Score..1.100.)\n",
        "Min. 1st Qu. Median Mean 3rd Qu. Max. \n",
        "## 1.00 34.75 50.00 50.20 73.00 99.00\n",
        "boxplot(customer_data$Spending.Score..1.100.,\n",
        "   horizontal=TRUE,\n",
        "   col=\"#990000\",\n",
        "   main=\"BoxPlot for Descriptive Analysis of Spending Score\")"
      ],
      "metadata": {
        "id": "KzpWvRzFtQl_"
      },
      "execution_count": null,
      "outputs": []
    },
    {
      "cell_type": "code",
      "source": [
        "hist(customer_data$Spending.Score..1.100.,\n",
        "    main=\"HistoGram for Spending Score\",\n",
        "    xlab=\"Spending Score Class\",\n",
        "    ylab=\"Frequency\",\n",
        "    col=\"#6600cc\",\n",
        "    labels=TRUE)"
      ],
      "metadata": {
        "id": "hu5VghLPuRq6"
      },
      "execution_count": null,
      "outputs": []
    },
    {
      "cell_type": "code",
      "source": [
        "library(purrr)\n",
        "set.seed(123)\n",
        "# function to calculate total intra-cluster sum of square \n",
        "iss <- function(k) {\n",
        "  kmeans(customer_data[,3:5],k,iter.max=100,nstart=100,algorithm=\"Lloyd\" )$tot.withinss\n",
        "}\n",
        "k.values <- 1:10\n",
        "iss_values <- map_dbl(k.values, iss)\n",
        "plot(k.values, iss_values,\n",
        "    type=\"b\", pch = 19, frame = FALSE, \n",
        "    xlab=\"Number of clusters K\",\n",
        "    ylab=\"Total intra-clusters sum of squares\")"
      ],
      "metadata": {
        "id": "-y4uv_dkuTtf"
      },
      "execution_count": null,
      "outputs": []
    },
    {
      "cell_type": "code",
      "source": [
        "library(cluster) \n",
        "library(gridExtra)\n",
        "library(grid)\n",
        "k2<-kmeans(customer_data[,3:5],2,iter.max=100,nstart=50,algorithm=\"Lloyd\")\n",
        "s2<-plot(silhouette(k2$cluster,dist(customer_data[,3:5],\"euclidean\")))"
      ],
      "metadata": {
        "id": "d3M8_d_uuXrP"
      },
      "execution_count": null,
      "outputs": []
    },
    {
      "cell_type": "code",
      "source": [
        "\n",
        "k3<-kmeans(customer_data[,3:5],3,iter.max=100,nstart=50,algorithm=\"Lloyd\")\n",
        "s3<-plot(silhouette(k3$cluster,dist(customer_data[,3:5],\"euclidean\")))"
      ],
      "metadata": {
        "id": "27CscSfAuaeY"
      },
      "execution_count": null,
      "outputs": []
    },
    {
      "cell_type": "code",
      "source": [
        "k4<-kmeans(customer_data[,3:5],4,iter.max=100,nstart=50,algorithm=\"Lloyd\")\n",
        "s4<-plot(silhouette(k4$cluster,dist(customer_data[,3:5],\"euclidean\")))"
      ],
      "metadata": {
        "id": "oE-DewoZuc-o"
      },
      "execution_count": null,
      "outputs": []
    },
    {
      "cell_type": "code",
      "source": [
        "k5<-kmeans(customer_data[,3:5],5,iter.max=100,nstart=50,algorithm=\"Lloyd\")\n",
        "s5<-plot(silhouette(k5$cluster,dist(customer_data[,3:5],\"euclidean\")))"
      ],
      "metadata": {
        "id": "KpYTL25FugZP"
      },
      "execution_count": null,
      "outputs": []
    },
    {
      "cell_type": "code",
      "source": [],
      "metadata": {
        "id": "Xlo8b7n3umf6"
      },
      "execution_count": null,
      "outputs": []
    }
  ]
}