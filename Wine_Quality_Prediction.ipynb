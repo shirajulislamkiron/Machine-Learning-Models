{
  "nbformat": 4,
  "nbformat_minor": 0,
  "metadata": {
    "colab": {
      "provenance": []
    },
    "kernelspec": {
      "name": "python3",
      "display_name": "Python 3"
    },
    "language_info": {
      "name": "python"
    }
  },
  "cells": [
    {
      "cell_type": "code",
      "execution_count": null,
      "metadata": {
        "id": "a5e7LYHMqe0j"
      },
      "outputs": [],
      "source": [
        "import numpy as np\n",
        "import pandas as pd\n",
        "import seaborn as sns\n",
        "from sklearn.svm import SVC\n",
        "import matplotlib.pyplot as plt\n",
        "from sklearn.linear_model import SGDClassifier\n",
        "from sklearn.preprocessing import LabelEncoder\n",
        "from sklearn.model_selection import GridSearchCV\n",
        "from sklearn.ensemble import RandomForestClassifier\n",
        "from sklearn.metrics import classification_report,confusion_matrix,accuracy_score\n",
        "\n",
        "%matplotlib inline"
      ]
    },
    {
      "cell_type": "code",
      "source": [
        "wine = pd.read_csv('winequality-red.csv')\n",
        "wine.head()"
      ],
      "metadata": {
        "id": "TGxz1heEzFRd"
      },
      "execution_count": null,
      "outputs": []
    },
    {
      "cell_type": "code",
      "source": [
        "wine.describe()"
      ],
      "metadata": {
        "id": "Ya1JJXNrzG4x"
      },
      "execution_count": null,
      "outputs": []
    },
    {
      "cell_type": "code",
      "source": [
        "fig = plt.figure(figsize=(15,10))\n",
        "\n",
        "plt.subplot(3,4,1)\n",
        "sns.barplot(x='quality',y='fixed acidity',data=wine)\n",
        "\n",
        "plt.subplot(3,4,2)\n",
        "sns.barplot(x='quality',y='volatile acidity',data=wine)\n",
        "\n",
        "plt.subplot(3,4,3)\n",
        "sns.barplot(x='quality',y='citric acid',data=wine)\n",
        "\n",
        "plt.subplot(3,4,4)\n",
        "sns.barplot(x='quality',y='residual sugar',data=wine)\n",
        "\n",
        "plt.subplot(3,4,5)\n",
        "sns.barplot(x='quality',y='chlorides',data=wine)\n",
        "\n",
        "plt.subplot(3,4,6)\n",
        "sns.barplot(x='quality',y='free sulfur dioxide',data=wine)\n",
        "\n",
        "plt.subplot(3,4,7)\n",
        "sns.barplot(x='quality',y='total sulfur dioxide',data=wine)\n",
        "\n",
        "plt.subplot(3,4,8)\n",
        "sns.barplot(x='quality',y='density',data=wine)\n",
        "\n",
        "plt.subplot(3,4,9)\n",
        "sns.barplot(x='quality',y='pH',data=wine)\n",
        "\n",
        "plt.subplot(3,4,10)\n",
        "sns.barplot(x='quality',y='sulphates',data=wine)\n",
        "\n",
        "plt.subplot(3,4,11)\n",
        "sns.barplot(x='quality',y='alcohol',data=wine)\n",
        "\n",
        "plt.tight_layout()"
      ],
      "metadata": {
        "id": "AD63I7ZkzIvi"
      },
      "execution_count": null,
      "outputs": []
    },
    {
      "cell_type": "code",
      "source": [
        "ranges = (2,6.5,8) \n",
        "groups = ['bad','good']\n",
        "wine['quality'] = pd.cut(wine['quality'],bins=ranges,labels=groups)"
      ],
      "metadata": {
        "id": "bauDL_82zLzQ"
      },
      "execution_count": null,
      "outputs": []
    },
    {
      "cell_type": "code",
      "source": [
        "le = LabelEncoder()\n",
        "wine['quality'] = le.fit_transform(wine['quality'])\n",
        "wine.head()"
      ],
      "metadata": {
        "id": "LNBRvZqEzO5A"
      },
      "execution_count": null,
      "outputs": []
    },
    {
      "cell_type": "code",
      "source": [
        "wine['quality'].value_counts()"
      ],
      "metadata": {
        "id": "Lmst2JKczUqX"
      },
      "execution_count": null,
      "outputs": []
    },
    {
      "cell_type": "code",
      "source": [
        "good_quality = wine[wine['quality']==1]\n",
        "bad_quality = wine[wine['quality']==0]\n",
        "\n",
        "bad_quality = bad_quality.sample(frac=1)\n",
        "bad_quality = bad_quality[:217]\n",
        "\n",
        "new_df = pd.concat([good_quality,bad_quality])\n",
        "new_df = new_df.sample(frac=1)\n",
        "new_df"
      ],
      "metadata": {
        "id": "uM1wnd9zzRCo"
      },
      "execution_count": null,
      "outputs": []
    },
    {
      "cell_type": "code",
      "source": [
        "from sklearn.model_selection import train_test_split\n",
        "\n",
        "X = new_df.drop('quality',axis=1) \n",
        "y = new_df['quality']\n",
        "\n",
        "X_train, X_test, y_train, y_test = train_test_split(X, y, test_size=0.3, random_state=101)"
      ],
      "metadata": {
        "id": "1dxigFcDzTSZ"
      },
      "execution_count": null,
      "outputs": []
    },
    {
      "cell_type": "code",
      "source": [
        "param = {'n_estimators':[100,200,300,400,500,600,700,800,900,1000]}\n",
        "\n",
        "grid_rf = GridSearchCV(RandomForestClassifier(),param,scoring='accuracy',cv=10,)\n",
        "grid_rf.fit(X_train, y_train)\n",
        "\n",
        "print('Best parameters --> ', grid_rf.best_params_)\n",
        "\n",
        "# Wine Quality Prediction\n",
        "pred = grid_rf.predict(X_test)\n",
        "\n",
        "print(confusion_matrix(y_test,pred))\n",
        "print('\\n')\n",
        "print(classification_report(y_test,pred))\n",
        "print('\\n')\n",
        "print(accuracy_score(y_test,pred))"
      ],
      "metadata": {
        "id": "yamRBFMEzbEg"
      },
      "execution_count": null,
      "outputs": []
    }
  ]
}