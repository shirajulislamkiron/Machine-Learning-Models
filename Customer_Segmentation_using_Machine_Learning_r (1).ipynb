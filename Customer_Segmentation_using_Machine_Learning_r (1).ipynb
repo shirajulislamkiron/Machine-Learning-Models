{
  "nbformat": 4,
  "nbformat_minor": 0,
  "metadata": {
    "colab": {
      "provenance": []
    },
    "kernelspec": {
      "name": "python3",
      "display_name": "Python 3"
    },
    "language_info": {
      "name": "python"
    }
  },
  "cells": [
    {
      "cell_type": "code",
      "execution_count": null,
      "metadata": {
        "id": "a5e7LYHMqe0j"
      },
      "outputs": [],
      "source": [
        "from python_speech_features import mfcc\n",
        "import scipy.io.wavfile as wav\n",
        "import numpy as np\n",
        "\n",
        "from tempfile import TemporaryFile\n",
        "import os\n",
        "import pickle\n",
        "import random \n",
        "import operator\n",
        "\n",
        "import math\n",
        "import numpy as np"
      ]
    },
    {
      "cell_type": "code",
      "source": [
        "def getNeighbors(trainingSet, instance, k):\n",
        "    distances = []\n",
        "    for x in range (len(trainingSet)):\n",
        "        dist = distance(trainingSet[x], instance, k )+ distance(instance, trainingSet[x], k)\n",
        "        distances.append((trainingSet[x][2], dist))\n",
        "    distances.sort(key=operator.itemgetter(1))\n",
        "    neighbors = []\n",
        "    for x in range(k):\n",
        "        neighbors.append(distances[x][0])\n",
        "    return neighbors"
      ],
      "metadata": {
        "id": "-3q3fNYQrkf3"
      },
      "execution_count": null,
      "outputs": []
    },
    {
      "cell_type": "code",
      "source": [
        "def nearestClass(neighbors):\n",
        "    classVote = {}\n",
        "    for x in range(len(neighbors)):\n",
        "        response = neighbors[x]\n",
        "        if response in classVote:\n",
        "            classVote[response]+=1 \n",
        "        else:\n",
        "            classVote[response]=1\n",
        "    sorter = sorted(classVote.items(), key = operator.itemgetter(1), reverse=True)\n",
        "    return sorter[0][0]"
      ],
      "metadata": {
        "id": "6QvWvJjrrnbV"
      },
      "execution_count": null,
      "outputs": []
    },
    {
      "cell_type": "code",
      "source": [
        "def getAccuracy(testSet, predictions):\n",
        "    correct = 0 \n",
        "    for x in range (len(testSet)):\n",
        "        if testSet[x][-1]==predictions[x]:\n",
        "            correct+=1\n",
        "    return 1.0*correct/len(testSet)\n"
      ],
      "metadata": {
        "id": "FWK7UY7ArpXn"
      },
      "execution_count": null,
      "outputs": []
    },
    {
      "cell_type": "code",
      "source": [
        "directory = \"__path_to_dataset__\"\n",
        "f= open(\"my.dat\" ,'wb')\n",
        "i=0\n",
        "\n",
        "for folder in os.listdir(directory):\n",
        "    i+=1\n",
        "    if i==11 :\n",
        "        break   \n",
        "    for file in os.listdir(directory+folder):  \n",
        "        (rate,sig) = wav.read(directory+folder+\"/\"+file)\n",
        "        mfcc_feat = mfcc(sig,rate ,winlen=0.020, appendEnergy = False)\n",
        "        covariance = np.cov(np.matrix.transpose(mfcc_feat))\n",
        "        mean_matrix = mfcc_feat.mean(0)\n",
        "        feature = (mean_matrix , covariance , i)\n",
        "        pickle.dump(feature , f)\n",
        "\n",
        "f.close()"
      ],
      "metadata": {
        "id": "XCcYseptrrLN"
      },
      "execution_count": null,
      "outputs": []
    },
    {
      "cell_type": "code",
      "source": [
        "dataset = []\n",
        "def loadDataset(filename , split , trSet , teSet):\n",
        "    with open(\"my.dat\" , 'rb') as f:\n",
        "        while True:\n",
        "            try:\n",
        "                dataset.append(pickle.load(f))\n",
        "            except EOFError:\n",
        "                f.close()\n",
        "                break  \n",
        "\n",
        "    for x in range(len(dataset)):\n",
        "        if random.random() <split :      \n",
        "            trSet.append(dataset[x])\n",
        "        else:\n",
        "            teSet.append(dataset[x])  \n",
        "\n",
        "trainingSet = []\n",
        "testSet = []\n",
        "loadDataset(\"my.dat\" , 0.66, trainingSet, testSet)"
      ],
      "metadata": {
        "id": "Y77q33xJrtOV"
      },
      "execution_count": null,
      "outputs": []
    },
    {
      "cell_type": "code",
      "source": [
        "leng = len(testSet)\n",
        "predictions = []\n",
        "for x in range (leng):\n",
        "    predictions.append(nearestClass(getNeighbors(trainingSet ,testSet[x] , 5))) \n",
        "accuracy1 = getAccuracy(testSet , predictions)\n",
        "print(accuracy1)\n"
      ],
      "metadata": {
        "id": "P_l-0q2vrvy1"
      },
      "execution_count": null,
      "outputs": []
    },
    {
      "cell_type": "code",
      "source": [
        "from python_speech_features import mfcc\n",
        "import scipy.io.wavfile as wav\n",
        "import numpy as np\n",
        "from tempfile import TemporaryFile\n",
        "import os\n",
        "import pickle\n",
        "import random \n",
        "import operator\n",
        "\n",
        "import math\n",
        "import numpy as np\n",
        "from collections import defaultdict\n",
        "\n",
        "dataset = []\n",
        "def loadDataset(filename):\n",
        "    with open(\"my.dat\" , 'rb') as f:\n",
        "        while True:\n",
        "            try:\n",
        "                dataset.append(pickle.load(f))\n",
        "            except EOFError:\n",
        "                f.close()\n",
        "                break\n",
        "\n",
        "loadDataset(\"my.dat\")\n",
        "\n",
        "def distance(instance1 , instance2 , k ):\n",
        "    distance =0 \n",
        "    mm1 = instance1[0] \n",
        "    cm1 = instance1[1]\n",
        "    mm2 = instance2[0]\n",
        "    cm2 = instance2[1]\n",
        "    distance = np.trace(np.dot(np.linalg.inv(cm2), cm1)) \n",
        "    distance+=(np.dot(np.dot((mm2-mm1).transpose() , np.linalg.inv(cm2)) , mm2-mm1 )) \n",
        "    distance+= np.log(np.linalg.det(cm2)) - np.log(np.linalg.det(cm1))\n",
        "    distance-= k\n",
        "    return distance\n",
        "\n",
        "def getNeighbors(trainingSet , instance , k):\n",
        "    distances =[]\n",
        "    for x in range (len(trainingSet)):\n",
        "        dist = distance(trainingSet[x], instance, k )+ distance(instance, trainingSet[x], k)\n",
        "        distances.append((trainingSet[x][2], dist))\n",
        "    distances.sort(key=operator.itemgetter(1))\n",
        "    neighbors = []\n",
        "    for x in range(k):\n",
        "        neighbors.append(distances[x][0])\n",
        "    return neighbors  \n",
        "\n",
        "def nearestClass(neighbors):\n",
        "    classVote ={}\n",
        "    for x in range(len(neighbors)):\n",
        "        response = neighbors[x]\n",
        "        if response in classVote:\n",
        "            classVote[response]+=1 \n",
        "        else:\n",
        "            classVote[response]=1 \n",
        "    sorter = sorted(classVote.items(), key = operator.itemgetter(1), reverse=True)\n",
        "    return sorter[0][0]\n",
        "\n",
        "\n",
        "results=defaultdict(int)\n",
        "\n",
        "i=1\n",
        "for folder in os.listdir(\"./musics/wav_genres/\"):\n",
        "    results[i]=folder\n",
        "    i+=1\n",
        "\n",
        "(rate,sig)=wav.read(\"__path_to_new_audio_file_\")\n",
        "mfcc_feat=mfcc(sig,rate,winlen=0.020,appendEnergy=False)\n",
        "covariance = np.cov(np.matrix.transpose(mfcc_feat))\n",
        "mean_matrix = mfcc_feat.mean(0)\n",
        "feature=(mean_matrix,covariance,0)\n",
        "\n",
        "pred=nearestClass(getNeighbors(dataset ,feature , 5))\n",
        "\n",
        "print(results[pred])"
      ],
      "metadata": {
        "id": "34TZNzZYryRF"
      },
      "execution_count": null,
      "outputs": []
    },
    {
      "cell_type": "code",
      "source": [
        "boxplot(customer_data$Age,\n",
        "       col=\"ff0066\",\n",
        "       main=\"Boxplot for Descriptive Analysis of Age\")"
      ],
      "metadata": {
        "id": "_eAJQbkytGWA"
      },
      "execution_count": null,
      "outputs": []
    },
    {
      "cell_type": "code",
      "source": [
        "summary(customer_data$Annual.Income..k..)\n",
        "hist(customer_data$Annual.Income..k..,\n",
        "  col=\"#660033\",\n",
        "  main=\"Histogram for Annual Income\",\n",
        "  xlab=\"Annual Income Class\",\n",
        "  ylab=\"Frequency\",\n",
        "  labels=TRUE)"
      ],
      "metadata": {
        "id": "8Qd_TA2mtLDu"
      },
      "execution_count": null,
      "outputs": []
    },
    {
      "cell_type": "code",
      "source": [
        "plot(density(customer_data$Annual.Income..k..),\n",
        "    col=\"yellow\",\n",
        "    main=\"Density Plot for Annual Income\",\n",
        "    xlab=\"Annual Income Class\",\n",
        "    ylab=\"Density\")\n",
        "polygon(density(customer_data$Annual.Income..k..),\n",
        "        col=\"#ccff66\")"
      ],
      "metadata": {
        "id": "Y3AAGZ6ztOQP"
      },
      "execution_count": null,
      "outputs": []
    },
    {
      "cell_type": "code",
      "source": [
        "summary(customer_data$Spending.Score..1.100.)\n",
        "Min. 1st Qu. Median Mean 3rd Qu. Max. \n",
        "## 1.00 34.75 50.00 50.20 73.00 99.00\n",
        "boxplot(customer_data$Spending.Score..1.100.,\n",
        "   horizontal=TRUE,\n",
        "   col=\"#990000\",\n",
        "   main=\"BoxPlot for Descriptive Analysis of Spending Score\")"
      ],
      "metadata": {
        "id": "KzpWvRzFtQl_"
      },
      "execution_count": null,
      "outputs": []
    },
    {
      "cell_type": "code",
      "source": [
        "hist(customer_data$Spending.Score..1.100.,\n",
        "    main=\"HistoGram for Spending Score\",\n",
        "    xlab=\"Spending Score Class\",\n",
        "    ylab=\"Frequency\",\n",
        "    col=\"#6600cc\",\n",
        "    labels=TRUE)"
      ],
      "metadata": {
        "id": "hu5VghLPuRq6"
      },
      "execution_count": null,
      "outputs": []
    },
    {
      "cell_type": "code",
      "source": [
        "library(purrr)\n",
        "set.seed(123)\n",
        "# function to calculate total intra-cluster sum of square \n",
        "iss <- function(k) {\n",
        "  kmeans(customer_data[,3:5],k,iter.max=100,nstart=100,algorithm=\"Lloyd\" )$tot.withinss\n",
        "}\n",
        "k.values <- 1:10\n",
        "iss_values <- map_dbl(k.values, iss)\n",
        "plot(k.values, iss_values,\n",
        "    type=\"b\", pch = 19, frame = FALSE, \n",
        "    xlab=\"Number of clusters K\",\n",
        "    ylab=\"Total intra-clusters sum of squares\")"
      ],
      "metadata": {
        "id": "-y4uv_dkuTtf"
      },
      "execution_count": null,
      "outputs": []
    },
    {
      "cell_type": "code",
      "source": [
        "library(cluster) \n",
        "library(gridExtra)\n",
        "library(grid)\n",
        "k2<-kmeans(customer_data[,3:5],2,iter.max=100,nstart=50,algorithm=\"Lloyd\")\n",
        "s2<-plot(silhouette(k2$cluster,dist(customer_data[,3:5],\"euclidean\")))"
      ],
      "metadata": {
        "id": "d3M8_d_uuXrP"
      },
      "execution_count": null,
      "outputs": []
    },
    {
      "cell_type": "code",
      "source": [
        "\n",
        "k3<-kmeans(customer_data[,3:5],3,iter.max=100,nstart=50,algorithm=\"Lloyd\")\n",
        "s3<-plot(silhouette(k3$cluster,dist(customer_data[,3:5],\"euclidean\")))"
      ],
      "metadata": {
        "id": "27CscSfAuaeY"
      },
      "execution_count": null,
      "outputs": []
    },
    {
      "cell_type": "code",
      "source": [
        "k4<-kmeans(customer_data[,3:5],4,iter.max=100,nstart=50,algorithm=\"Lloyd\")\n",
        "s4<-plot(silhouette(k4$cluster,dist(customer_data[,3:5],\"euclidean\")))"
      ],
      "metadata": {
        "id": "oE-DewoZuc-o"
      },
      "execution_count": null,
      "outputs": []
    },
    {
      "cell_type": "code",
      "source": [
        "k5<-kmeans(customer_data[,3:5],5,iter.max=100,nstart=50,algorithm=\"Lloyd\")\n",
        "s5<-plot(silhouette(k5$cluster,dist(customer_data[,3:5],\"euclidean\")))"
      ],
      "metadata": {
        "id": "KpYTL25FugZP"
      },
      "execution_count": null,
      "outputs": []
    },
    {
      "cell_type": "code",
      "source": [],
      "metadata": {
        "id": "Xlo8b7n3umf6"
      },
      "execution_count": null,
      "outputs": []
    }
  ]
}